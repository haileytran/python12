{
 "cells": [
  {
   "cell_type": "markdown",
   "metadata": {},
   "source": [
    "# <font size=\"15\"> Python #12 </font>\n",
    "## Table of Contents:\n",
    "1. [Final](#section1)  \n",
    "    1.1 [Errors](#section1.1)     \n",
    "    1.2 [Assignment Statement](#section1.2)  \n",
    "    1.3 [Functions](#section1.3)    \n",
    "    1.4 [Lists](#section1.5)  \n",
    "    1.5 [If/else Statements](#section1.6)   \n",
    "    1.6 [While loops](#section2.1)  \n",
    "    1.7 [For loops](#section2.2)   \n",
    "    1.8 [Define Statments](#section2.1)  \n",
    "\n",
    "\n",
    "\n",
    "## Contact:\n",
    "Email: [Hailey Tran](mailto:hailey.tran@berkeley.edu) \n",
    "\n",
    "\n",
    "After today you will know how to:\n",
    "1. Code in Python!!! "
   ]
  },
  {
   "cell_type": "markdown",
   "metadata": {},
   "source": [
    "<a id='section1'></a>\n",
    "# Part 1: Final "
   ]
  },
  {
   "cell_type": "markdown",
   "metadata": {},
   "source": [
    "<a id='section1.1'></a>\n",
    "### 1.1 Errors\n",
    "   \n",
    "**Question 1.1.1.** Fix the cells below so that they run successively. "
   ]
  },
  {
   "cell_type": "code",
   "execution_count": null,
   "metadata": {},
   "outputs": [],
   "source": [
    "print(\"I am now a Python coder!!!'"
   ]
  },
  {
   "cell_type": "code",
   "execution_count": null,
   "metadata": {},
   "outputs": [],
   "source": [
    "todays_date "
   ]
  },
  {
   "cell_type": "markdown",
   "metadata": {},
   "source": [
    "<a id='section1.2'></a>\n",
    "### 1.2 Assignment Statements\n"
   ]
  },
  {
   "cell_type": "markdown",
   "metadata": {},
   "source": [
    "**Question 1.2.1.** Fix the cells below so that they run successively. "
   ]
  },
  {
   "cell_type": "code",
   "execution_count": null,
   "metadata": {},
   "outputs": [],
   "source": [
    "todays_date = july 26"
   ]
  },
  {
   "cell_type": "code",
   "execution_count": null,
   "metadata": {},
   "outputs": [],
   "source": [
    "dogs name = \"Mochi\""
   ]
  },
  {
   "cell_type": "code",
   "execution_count": null,
   "metadata": {},
   "outputs": [],
   "source": [
    "3_dogs = ['Mochi', 'Lucky', 'Lilly']"
   ]
  },
  {
   "cell_type": "markdown",
   "metadata": {},
   "source": [
    "**Question 1.2.2.** Suppose that these variables are assigned expressions. Will it evaluate to True or False? Explain your answer."
   ]
  },
  {
   "cell_type": "markdown",
   "metadata": {},
   "source": [
    "Husky == husky"
   ]
  },
  {
   "cell_type": "markdown",
   "metadata": {},
   "source": [
    "Double click this cell and write your answer here:"
   ]
  },
  {
   "cell_type": "markdown",
   "metadata": {},
   "source": [
    "<a id='section1.3'></a>\n",
    "### 1.3 Functions\n"
   ]
  },
  {
   "cell_type": "code",
   "execution_count": 1,
   "metadata": {},
   "outputs": [],
   "source": [
    "#Run this cell \n",
    "import math"
   ]
  },
  {
   "cell_type": "markdown",
   "metadata": {},
   "source": [
    "Here are some of the functions you use in the `math` notebook:\n",
    "\n",
    "|Method Name|Value|\n",
    "|-|-|\n",
    "|`cos(x)`|returns the cosine of x radians|\n",
    "|`sin(x)`|returns the sine of x radians|\n",
    "|`tan(x)`|returns the tangent of x radians|\n",
    "|`e`|returns the value of *e*|\n",
    "|`pi`|returns the value of pi (3.14)|\n",
    "|`factorial`| calculates factorials|\n",
    "|`log(logarithm, base)`|calculates logarithms. The first number is the logarithm and the second number is the base.|\n",
    "|`sqrt`| calculates square roots|\n",
    "\n",
    "\n",
    "**Question 1.3.1** \n",
    "\n",
    "Write this code in the following lines! "
   ]
  },
  {
   "cell_type": "markdown",
   "metadata": {},
   "source": [
    "$$tan(\\pi)$$"
   ]
  },
  {
   "cell_type": "code",
   "execution_count": null,
   "metadata": {},
   "outputs": [],
   "source": []
  },
  {
   "cell_type": "markdown",
   "metadata": {},
   "source": [
    "<center>Find the factorial of 3</center>"
   ]
  },
  {
   "cell_type": "code",
   "execution_count": null,
   "metadata": {},
   "outputs": [],
   "source": []
  },
  {
   "cell_type": "markdown",
   "metadata": {},
   "source": [
    "<center>'e' to the 3rd power</center>"
   ]
  },
  {
   "cell_type": "code",
   "execution_count": null,
   "metadata": {},
   "outputs": [],
   "source": []
  },
  {
   "cell_type": "markdown",
   "metadata": {},
   "source": [
    "<a id='section1.4'></a>\n",
    "### 1.4 Lists\n",
    "\n",
    "|Method Name|Value|\n",
    "|-|-|\n",
    "|`append(string)`|Adds an element at the end of the list|\n",
    "|`clear()`|Removes all the elements from the list|\n",
    "|`count(string)`|\tReturns the number of elements with the specified value|\n",
    "|`pop(index)`|Removes the element at the specified position|\n",
    "|`index(string)`|Returns the index of the first element with the specified value|\n"
   ]
  },
  {
   "cell_type": "code",
   "execution_count": null,
   "metadata": {},
   "outputs": [],
   "source": [
    "#run this cell to load the data\n",
    "random_list = []\n",
    "for i in range(1, 11):\n",
    "    random_list += [i]\n",
    "    \n",
    "random_list"
   ]
  },
  {
   "cell_type": "markdown",
   "metadata": {},
   "source": [
    "**Exercise 1.4.1** Find the 5th element in `random_list` using a positive index:"
   ]
  },
  {
   "cell_type": "code",
   "execution_count": null,
   "metadata": {},
   "outputs": [],
   "source": []
  },
  {
   "cell_type": "markdown",
   "metadata": {},
   "source": [
    "**Exercise 1.4.2** Find the 3rd element in `random_list` using a negative index:"
   ]
  },
  {
   "cell_type": "code",
   "execution_count": null,
   "metadata": {},
   "outputs": [],
   "source": []
  },
  {
   "cell_type": "markdown",
   "metadata": {},
   "source": [
    "**Exercise 1.4.3** Change the '1' in `random_list` to a '0' using indexing:"
   ]
  },
  {
   "cell_type": "code",
   "execution_count": null,
   "metadata": {},
   "outputs": [],
   "source": []
  },
  {
   "cell_type": "markdown",
   "metadata": {},
   "source": [
    "**Exercise 1.4.4** Remove all elements of the list:"
   ]
  },
  {
   "cell_type": "code",
   "execution_count": null,
   "metadata": {},
   "outputs": [],
   "source": []
  },
  {
   "cell_type": "markdown",
   "metadata": {},
   "source": [
    "<a id='section1.5'></a>\n",
    "### 1.5 If/Else Statements\n",
    "\n",
    "\n",
    "**Exercise 1.5.1** Write code below that takes two int values from the user and prints out the greater number. It should print out \"Greatest is ...\"\n",
    "\n",
    "If both numbers are equal, print out \"Both are equal\""
   ]
  },
  {
   "cell_type": "code",
   "execution_count": null,
   "metadata": {},
   "outputs": [],
   "source": []
  },
  {
   "cell_type": "markdown",
   "metadata": {},
   "source": [
    " <a id='section1.6'></a>\n",
    "### 1.6 While Loops"
   ]
  },
  {
   "cell_type": "markdown",
   "metadata": {},
   "source": [
    "**Exercise 1.6.1** Use a while loop to print the numbers 0-7 out. When the loop is done, print \"Finished.\""
   ]
  },
  {
   "cell_type": "code",
   "execution_count": null,
   "metadata": {},
   "outputs": [],
   "source": []
  },
  {
   "cell_type": "markdown",
   "metadata": {},
   "source": [
    "<a id='section1.7'></a>\n",
    "### 1.7 For Loops\n",
    "\n",
    "**Exercise 1.7.1** Write a program to calculate the sum of first 10 natural number. Your answer should output \n",
    "0\n",
    "1\n",
    "3\n",
    "6\n",
    "10\n",
    "15\n",
    "21\n",
    "28\n",
    "36\n",
    "45\n",
    "55 "
   ]
  },
  {
   "cell_type": "code",
   "execution_count": null,
   "metadata": {},
   "outputs": [],
   "source": []
  },
  {
   "cell_type": "markdown",
   "metadata": {},
   "source": [
    "<a id='section1.8'></a>\n",
    "### 1.8 Define Statements"
   ]
  },
  {
   "cell_type": "markdown",
   "metadata": {},
   "source": [
    "**Exercise 1.8.1** Replace the '...' to write a Python function that finds the max of three numbers."
   ]
  },
  {
   "cell_type": "code",
   "execution_count": null,
   "metadata": {},
   "outputs": [],
   "source": [
    "def max_of_two(x, y):\n",
    "    if ... > ...:\n",
    "        return ...\n",
    "    return ...\n",
    "\n",
    "def max_of_three(x, y, z):\n",
    "    return max_of_two( x, ... )\n",
    "\n",
    "print(max_of_three(3, 6, -5))"
   ]
  }
 ],
 "metadata": {
  "kernelspec": {
   "display_name": "Python 3",
   "language": "python",
   "name": "python3"
  },
  "language_info": {
   "codemirror_mode": {
    "name": "ipython",
    "version": 3
   },
   "file_extension": ".py",
   "mimetype": "text/x-python",
   "name": "python",
   "nbconvert_exporter": "python",
   "pygments_lexer": "ipython3",
   "version": "3.7.8"
  }
 },
 "nbformat": 4,
 "nbformat_minor": 4
}
